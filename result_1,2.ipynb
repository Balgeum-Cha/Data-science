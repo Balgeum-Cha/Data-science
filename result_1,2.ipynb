{
 "cells": [
  {
   "cell_type": "code",
   "execution_count": 1,
   "metadata": {},
   "outputs": [],
   "source": [
    "import numpy as np\n",
    "import pandas as pd"
   ]
  },
  {
   "cell_type": "code",
   "execution_count": 2,
   "metadata": {},
   "outputs": [],
   "source": [
    "# 데이터 불러오기\n",
    "df = pd.read_excel('공개데이터_18.xlsx')"
   ]
  },
  {
   "cell_type": "code",
   "execution_count": 3,
   "metadata": {},
   "outputs": [],
   "source": [
    "# 학생 수 관련 데이터 선택\n",
    "numcls = df.loc[:,'regname':'numcls_f6']"
   ]
  },
  {
   "cell_type": "code",
   "execution_count": 4,
   "metadata": {},
   "outputs": [],
   "source": [
    "# 관련없는 데이터 삭제\n",
    "numcls = numcls.drop(['schlevel','schtypename','schgenname','schprin'],axis = 1)"
   ]
  },
  {
   "cell_type": "code",
   "execution_count": 5,
   "metadata": {},
   "outputs": [],
   "source": [
    "# 서울 학생수를 구하기 위해 서울지역 데이터 선택\n",
    "seoul_numcls = numcls.loc[numcls['regname']=='서울',:]"
   ]
  },
  {
   "cell_type": "code",
   "execution_count": 6,
   "metadata": {},
   "outputs": [],
   "source": [
    "seoul_numcls_copy = seoul_numcls.copy()"
   ]
  },
  {
   "cell_type": "code",
   "execution_count": 7,
   "metadata": {},
   "outputs": [],
   "source": [
    "#서울 지역 각 학년 학생수 합계 셀 만들기 \n",
    "for i in range(1,7):\n",
    "    f'numcls_m{i}'\n",
    "    f'numcls_f{i}'\n",
    "    seoul_numcls_copy[f'numcls_{i}의학생수'] = seoul_numcls_copy[f'numcls_m{i}'] + seoul_numcls_copy[f'numcls_f{i}']"
   ]
  },
  {
   "cell_type": "code",
   "execution_count": 8,
   "metadata": {},
   "outputs": [
    {
     "name": "stdout",
     "output_type": "stream",
     "text": [
      "[22.571428571428573, 22.938628158844764, 23.09505703422053, 23.268382352941178, 23.017006802721088, 22.691756272401435]\n"
     ]
    }
   ],
   "source": [
    "# 서울 지역 학년별 평균 학급 학생 수 구하기 = 서울 지역 학년별 학생 수 총 합 / 서울 지역 학년별 학급 수 총 합\n",
    "# num_student = 서울 지역 학년별 평균 학급 학생 수 \n",
    "num_students = []\n",
    "for i in range(1,7):\n",
    "    f'numcls_{i}'\n",
    "    num_students.append(seoul_numcls_copy[f'numcls_{i}의학생수'].sum(0)/seoul_numcls_copy[f'numcls_{i}'].sum(0))\n",
    "print(num_students)\n",
    "grade = ['1학년','2학년','3학년','4학년','5학년','6학년']"
   ]
  },
  {
   "cell_type": "code",
   "execution_count": 10,
   "metadata": {},
   "outputs": [
    {
     "data": {
      "text/plain": [
       "(20.0, 25.0)"
      ]
     },
     "execution_count": 10,
     "metadata": {},
     "output_type": "execute_result"
    },
    {
     "data": {
      "image/png": "[encoded data removed]",
      "text/plain": [
       "<Figure size 432x288 with 1 Axes>"
      ]
     },
     "metadata": {
      "needs_background": "light"
     },
     "output_type": "display_data"
    }
   ],
   "source": [
    "# 학년별 학급 평균 학생 수 그래프 구하기 \n",
    "import matplotlib.pyplot as plt\n",
    "plt.bar(grade, num_students)\n",
    "plt.title('서울 지역 학년별 학급 평균 학생 수')\n",
    "plt.xlabel('학년')\n",
    "plt.ylabel('학생수(명)')\n",
    "for i,v in enumerate(grade):\n",
    "    plt.text(\n",
    "        v,\n",
    "        num_students[i],\n",
    "        '{:.2f}'.format(num_students[i]),\n",
    "        fontsize = 9,\n",
    "        color = 'black',\n",
    "        horizontalalignment='center',\n",
    "        verticalalignment='bottom'\n",
    "    )\n",
    "plt.ylim(20,25)"
   ]
  },
  {
   "cell_type": "code",
   "execution_count": null,
   "metadata": {},
   "outputs": [],
   "source": []
  }
 ],
 "metadata": {
  "kernelspec": {
   "display_name": "Python 3",
   "language": "python",
   "name": "python3"
  },
  "language_info": {
   "codemirror_mode": {
    "name": "ipython",
    "version": 3
   },
   "file_extension": ".py",
   "mimetype": "text/x-python",
   "name": "python",
   "nbconvert_exporter": "python",
   "pygments_lexer": "ipython3",
   "version": "3.8.5"
  }
 },
 "nbformat": 4,
 "nbformat_minor": 4
}
